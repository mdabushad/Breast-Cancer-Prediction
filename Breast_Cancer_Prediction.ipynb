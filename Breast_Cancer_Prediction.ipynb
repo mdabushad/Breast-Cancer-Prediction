{
  "nbformat": 4,
  "nbformat_minor": 0,
  "metadata": {
    "colab": {
      "provenance": [],
      "authorship_tag": "ABX9TyN47iT/6HaHgJZUZoU4/jgS",
      "include_colab_link": true
    },
    "kernelspec": {
      "name": "python3",
      "display_name": "Python 3"
    },
    "language_info": {
      "name": "python"
    }
  },
  "cells": [
    {
      "cell_type": "markdown",
      "metadata": {
        "id": "view-in-github",
        "colab_type": "text"
      },
      "source": [
        "<a href=\"https://colab.research.google.com/github/mdabushad/Breast-Cancer-Prediction/blob/main/Breast_Cancer_Prediction.ipynb\" target=\"_parent\"><img src=\"https://colab.research.google.com/assets/colab-badge.svg\" alt=\"Open In Colab\"/></a>"
      ]
    },
    {
      "cell_type": "markdown",
      "source": [
        "#**Breast Cancer Prediction Using ML**"
      ],
      "metadata": {
        "id": "aln3YufLTuxl"
      }
    },
    {
      "cell_type": "markdown",
      "source": [
        "## Import Libraries"
      ],
      "metadata": {
        "id": "JsEzl5r2XIyz"
      }
    },
    {
      "cell_type": "code",
      "source": [
        "import numpy as np\n",
        "import pandas as pd\n",
        "import matplotlib.pyplot as plt\n",
        "import seaborn as sns\n"
      ],
      "metadata": {
        "id": "i4qKxovfXBT6"
      },
      "execution_count": 4,
      "outputs": []
    },
    {
      "cell_type": "markdown",
      "source": [
        "## Downloading Dataset From Kaggle"
      ],
      "metadata": {
        "id": "8oBX0NJ4Xz3q"
      }
    },
    {
      "cell_type": "code",
      "source": [
        "#Setting- Up Kagggle API Credentials\n",
        "import os\n",
        "os.environ['kaggle_username'] = \"mdabushad\"\n",
        "os.environ['kaggle_key'] = \"512195e4116213d6fa87d3986c6708de\"\n",
        "\n",
        "# Downloading the Breast Cancer dataset\n",
        "!kaggle datasets download -d https://www.kaggle.com/datasets/uciml/breast-cancer-wisconsin-data\n"
      ],
      "metadata": {
        "id": "kialbwyCUKDI"
      },
      "execution_count": null,
      "outputs": []
    }
  ]
}